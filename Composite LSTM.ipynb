{
  "nbformat": 4,
  "nbformat_minor": 0,
  "metadata": {
    "colab": {
      "provenance": []
    },
    "kernelspec": {
      "name": "python3",
      "display_name": "Python 3"
    },
    "language_info": {
      "name": "python"
    }
  },
  "cells": [
    {
      "cell_type": "code",
      "execution_count": 1,
      "metadata": {
        "id": "Q6tShjEkrgc2"
      },
      "outputs": [],
      "source": [
        "import numpy as np\n",
        "import pandas as pd\n",
        "from keras.models import Sequential\n",
        "from keras.layers import Dense, LSTM, concatenate\n",
        "from sklearn.preprocessing import RobustScaler\n",
        "from sklearn.metrics import mean_squared_error, r2_score\n",
        "from sklearn.model_selection import train_test_split\n"
      ]
    },
    {
      "cell_type": "code",
      "source": [
        "# Load data\n",
        "df = pd.read_csv('Preprocessed.csv')"
      ],
      "metadata": {
        "id": "HBUSxdumsvwL"
      },
      "execution_count": 2,
      "outputs": []
    },
    {
      "cell_type": "code",
      "source": [
        "df.shape"
      ],
      "metadata": {
        "colab": {
          "base_uri": "https://localhost:8080/"
        },
        "id": "cR2X1xD1eRkL",
        "outputId": "45914280-aa14-4573-cbc3-50840631a5e4"
      },
      "execution_count": 3,
      "outputs": [
        {
          "output_type": "execute_result",
          "data": {
            "text/plain": [
              "(57206, 24)"
            ]
          },
          "metadata": {},
          "execution_count": 3
        }
      ]
    },
    {
      "cell_type": "code",
      "source": [
        "# Split data into two halves\n",
        "half_length = len(df) // 2\n",
        "first_half = df.iloc[:half_length]\n",
        "second_half = df.iloc[half_length:]\n"
      ],
      "metadata": {
        "id": "JmqdQmhfszQk"
      },
      "execution_count": 4,
      "outputs": []
    },
    {
      "cell_type": "code",
      "source": [
        "# Split features and target\n",
        "X1 = first_half.drop(\"mag\", axis=1)\n",
        "y1 = first_half[\"mag\"]\n",
        "X2 = second_half.drop(\"mag\", axis=1)\n",
        "y2 = second_half[\"mag\"]"
      ],
      "metadata": {
        "id": "QwjU4e8rs3xy"
      },
      "execution_count": 5,
      "outputs": []
    },
    {
      "cell_type": "code",
      "source": [
        "# Train-test split for both halves\n",
        "X1_train, X1_test, y1_train, y1_test = train_test_split(X1, y1, test_size=0.2, random_state=2022)\n",
        "X2_train, X2_test, y2_train, y2_test = train_test_split(X2, y2, test_size=0.2, random_state=2022)"
      ],
      "metadata": {
        "id": "vBOWNwPxs7Lv"
      },
      "execution_count": 6,
      "outputs": []
    },
    {
      "cell_type": "code",
      "source": [
        "# Scaling features\n",
        "scaler = RobustScaler()\n",
        "X1_train_scaled = scaler.fit_transform(X1_train)\n",
        "X1_test_scaled = scaler.transform(X1_test)\n",
        "X2_train_scaled = scaler.fit_transform(X2_train)\n",
        "X2_test_scaled = scaler.transform(X2_test)\n"
      ],
      "metadata": {
        "id": "i7wX9ydMtJ7a"
      },
      "execution_count": 7,
      "outputs": []
    },
    {
      "cell_type": "code",
      "source": [
        "# Reshaping data for LSTM input\n",
        "X1_train_reshaped = X1_train_scaled.reshape((X1_train_scaled.shape[0], 1, X1_train_scaled.shape[1]))\n",
        "X1_test_reshaped = X1_test_scaled.reshape((X1_test_scaled.shape[0], 1, X1_test_scaled.shape[1]))\n",
        "X2_train_reshaped = X2_train_scaled.reshape((X2_train_scaled.shape[0], 1, X2_train_scaled.shape[1]))\n",
        "X2_test_reshaped = X2_test_scaled.reshape((X2_test_scaled.shape[0], 1, X2_test_scaled.shape[1]))"
      ],
      "metadata": {
        "id": "2Ipoi6dUtSxY"
      },
      "execution_count": 8,
      "outputs": []
    },
    {
      "cell_type": "code",
      "source": [
        "from tensorflow.keras.models import Model\n",
        "# Define composite LSTM model\n",
        "def composite_lstm_model():\n",
        "    # First LSTM model\n",
        "    input1 = Input(shape=(X1_train_reshaped.shape[1], X1_train_reshaped.shape[2]))\n",
        "    lstm1 = LSTM(15)(input1)\n",
        "\n",
        "    # Second LSTM model\n",
        "    input2 = Input(shape=(X2_train_reshaped.shape[1], X2_train_reshaped.shape[2]))\n",
        "    lstm2 = LSTM(15)(input2)\n",
        "\n",
        "    # Concatenate the outputs of both LSTM models\n",
        "    merge = concatenate([lstm1, lstm2])\n",
        "\n",
        "    # Dense layer for output\n",
        "    output = Dense(1)(merge)\n",
        "\n",
        "    model = Model(inputs=[input1, input2], outputs=output)\n",
        "    model.compile(optimizer='adam', loss='mean_squared_error')\n",
        "\n",
        "    return model\n",
        "from tensorflow.keras.layers import Input, LSTM\n",
        "# Create and fit composite LSTM model\n",
        "model = composite_lstm_model()\n",
        "model.fit([X1_train_reshaped, X2_train_reshaped], y1_train, epochs=15, batch_size=28, verbose=1)\n",
        "model1 = composite_lstm_model()\n",
        "model1.fit([X1_train_reshaped, X2_train_reshaped], y2_train, epochs=15, batch_size=28, verbose=1)\n",
        "\n",
        "\n"
      ],
      "metadata": {
        "colab": {
          "base_uri": "https://localhost:8080/"
        },
        "id": "iWLDzUIktUA7",
        "outputId": "2d2202be-e166-4fff-f5e8-4bef931d199b"
      },
      "execution_count": 13,
      "outputs": [
        {
          "output_type": "stream",
          "name": "stdout",
          "text": [
            "Epoch 1/15\n",
            "818/818 [==============================] - 8s 4ms/step - loss: 3.3271\n",
            "Epoch 2/15\n",
            "818/818 [==============================] - 3s 4ms/step - loss: 0.2223\n",
            "Epoch 3/15\n",
            "818/818 [==============================] - 3s 4ms/step - loss: 0.0959\n",
            "Epoch 4/15\n",
            "818/818 [==============================] - 4s 4ms/step - loss: 0.0740\n",
            "Epoch 5/15\n",
            "818/818 [==============================] - 4s 4ms/step - loss: 0.0653\n",
            "Epoch 6/15\n",
            "818/818 [==============================] - 3s 4ms/step - loss: 0.0606\n",
            "Epoch 7/15\n",
            "818/818 [==============================] - 3s 4ms/step - loss: 0.0578\n",
            "Epoch 8/15\n",
            "818/818 [==============================] - 4s 5ms/step - loss: 0.0558\n",
            "Epoch 9/15\n",
            "818/818 [==============================] - 3s 4ms/step - loss: 0.0541\n",
            "Epoch 10/15\n",
            "818/818 [==============================] - 3s 4ms/step - loss: 0.0529\n",
            "Epoch 11/15\n",
            "818/818 [==============================] - 3s 4ms/step - loss: 0.0517\n",
            "Epoch 12/15\n",
            "818/818 [==============================] - 4s 5ms/step - loss: 0.0506\n",
            "Epoch 13/15\n",
            "818/818 [==============================] - 3s 4ms/step - loss: 0.0498\n",
            "Epoch 14/15\n",
            "818/818 [==============================] - 3s 4ms/step - loss: 0.0490\n",
            "Epoch 15/15\n",
            "818/818 [==============================] - 3s 4ms/step - loss: 0.0480\n",
            "Epoch 1/15\n",
            "818/818 [==============================] - 7s 4ms/step - loss: 1.8235\n",
            "Epoch 2/15\n",
            "818/818 [==============================] - 3s 3ms/step - loss: 0.1557\n",
            "Epoch 3/15\n",
            "818/818 [==============================] - 4s 5ms/step - loss: 0.0973\n",
            "Epoch 4/15\n",
            "818/818 [==============================] - 4s 5ms/step - loss: 0.0875\n",
            "Epoch 5/15\n",
            "818/818 [==============================] - 3s 3ms/step - loss: 0.0820\n",
            "Epoch 6/15\n",
            "818/818 [==============================] - 3s 4ms/step - loss: 0.0777\n",
            "Epoch 7/15\n",
            "818/818 [==============================] - 4s 5ms/step - loss: 0.0738\n",
            "Epoch 8/15\n",
            "818/818 [==============================] - 3s 4ms/step - loss: 0.0701\n",
            "Epoch 9/15\n",
            "818/818 [==============================] - 3s 4ms/step - loss: 0.0671\n",
            "Epoch 10/15\n",
            "818/818 [==============================] - 3s 3ms/step - loss: 0.0645\n",
            "Epoch 11/15\n",
            "818/818 [==============================] - 4s 5ms/step - loss: 0.0624\n",
            "Epoch 12/15\n",
            "818/818 [==============================] - 3s 3ms/step - loss: 0.0607\n",
            "Epoch 13/15\n",
            "818/818 [==============================] - 3s 4ms/step - loss: 0.0593\n",
            "Epoch 14/15\n",
            "818/818 [==============================] - 3s 4ms/step - loss: 0.0581\n",
            "Epoch 15/15\n",
            "818/818 [==============================] - 4s 5ms/step - loss: 0.0572\n"
          ]
        },
        {
          "output_type": "execute_result",
          "data": {
            "text/plain": [
              "<keras.src.callbacks.History at 0x7e1e79c156c0>"
            ]
          },
          "metadata": {},
          "execution_count": 13
        }
      ]
    },
    {
      "source": [
        "from tensorflow.keras.models import Model"
      ],
      "cell_type": "code",
      "metadata": {
        "id": "N-Pp9N4_vszB"
      },
      "execution_count": 14,
      "outputs": []
    },
    {
      "cell_type": "code",
      "source": [
        "# Evaluate the model first half\n",
        "y1_pred = model.predict([X1_test_reshaped, X2_test_reshaped])\n",
        "mse = mean_squared_error(y1_test, y1_pred)\n",
        "r2 = r2_score(y1_test, y1_pred)\n",
        "print(\"Mean Squared Error:\", mse)\n",
        "print(\"R2 Score:\", r2)\n"
      ],
      "metadata": {
        "colab": {
          "base_uri": "https://localhost:8080/"
        },
        "id": "s9iEqD1DtdYb",
        "outputId": "83d30513-81cf-422a-984b-e0851c727968"
      },
      "execution_count": 15,
      "outputs": [
        {
          "output_type": "stream",
          "name": "stdout",
          "text": [
            "179/179 [==============================] - 2s 2ms/step\n",
            "Mean Squared Error: 0.05415494245460975\n",
            "R2 Score: 0.7564472571991698\n"
          ]
        }
      ]
    },
    {
      "cell_type": "code",
      "source": [
        "from sklearn import metrics\n",
        "mae = metrics.mean_absolute_error(y1_test,y1_pred)\n",
        "mse = metrics.mean_squared_error(y1_test,y1_pred)\n",
        "rmse = np.sqrt(mse) # or mse**(0.5)\n",
        "r2 = metrics.r2_score(y1_test,y1_pred)\n",
        "\n",
        "print(\"Composite-LSTM Results of sklearn.metrics for the first half:\")\n",
        "print(\"MAE:\",mae)\n",
        "print(\"MSE:\", mse)\n",
        "print(\"RMSE:\", rmse)\n",
        "print(\"R-Squared:\", r2)"
      ],
      "metadata": {
        "colab": {
          "base_uri": "https://localhost:8080/"
        },
        "id": "36FqfVs6Ih6S",
        "outputId": "060d6b97-4467-4e68-ae95-eecaaaf1847d"
      },
      "execution_count": 21,
      "outputs": [
        {
          "output_type": "stream",
          "name": "stdout",
          "text": [
            "composite-LSTM Results of sklearn.metrics for the first half:\n",
            "MAE: 0.16463986700011646\n",
            "MSE: 0.05415494245460975\n",
            "RMSE: 0.23271214505179946\n",
            "R-Squared: 0.7564472571991698\n"
          ]
        }
      ]
    },
    {
      "cell_type": "code",
      "source": [
        "# Evaluate the model on the test data from the second half\n",
        "y2_pred = model1.predict([X1_test_reshaped, X2_test_reshaped])\n",
        "mse2 = mean_squared_error(y2_test, y2_pred)\n",
        "r2_2 = r2_score(y2_test, y2_pred)\n",
        "print(\"Mean Squared Error (Second Half):\", mse2)\n",
        "print(\"R2 Score (Second Half):\", r2_2)\n",
        "\n"
      ],
      "metadata": {
        "colab": {
          "base_uri": "https://localhost:8080/"
        },
        "id": "HHA1p_SNn04M",
        "outputId": "c78cd0d5-2bad-40cf-8652-5f42e9506371"
      },
      "execution_count": 16,
      "outputs": [
        {
          "output_type": "stream",
          "name": "stdout",
          "text": [
            "179/179 [==============================] - 1s 2ms/step\n",
            "Mean Squared Error (Second Half): 0.06002361846390427\n",
            "R2 Score (Second Half): 0.7391329632808347\n"
          ]
        }
      ]
    },
    {
      "cell_type": "code",
      "source": [
        "from sklearn import metrics\n",
        "mae = metrics.mean_absolute_error(y2_test,y2_pred)\n",
        "mse = metrics.mean_squared_error(y2_test,y2_pred)\n",
        "rmse = np.sqrt(mse) # or mse**(0.5)\n",
        "r2 = metrics.r2_score(y2_test,y2_pred)\n",
        "\n",
        "print(\"Composite-LSTM Results of sklearn.metrics for the second half:\")\n",
        "print(\"MAE:\",mae)\n",
        "print(\"MSE:\", mse)\n",
        "print(\"RMSE:\", rmse)\n",
        "print(\"R-Squared:\", r2)"
      ],
      "metadata": {
        "colab": {
          "base_uri": "https://localhost:8080/"
        },
        "id": "Uwq7looWI-NH",
        "outputId": "9e7c9404-2727-4ee7-e94c-1cea1ab8ae58"
      },
      "execution_count": 22,
      "outputs": [
        {
          "output_type": "stream",
          "name": "stdout",
          "text": [
            "Composite-LSTM Results of sklearn.metrics for the second half:\n",
            "MAE: 0.1938395992189703\n",
            "MSE: 0.06002361846390427\n",
            "RMSE: 0.24499718052235678\n",
            "R-Squared: 0.7391329632808347\n"
          ]
        }
      ]
    },
    {
      "cell_type": "code",
      "source": [
        "from sklearn import metrics\n",
        "\n",
        "# Combine test targets and predicted values from both halves\n",
        "combined_y_test = pd.concat([y1_test, y2_test], ignore_index=True)\n",
        "combined_y_pred = np.concatenate([y1_pred, y2_pred])\n",
        "\n",
        "# Calculate metrics for the combined data\n",
        "mae_combined = metrics.mean_absolute_error(combined_y_test, combined_y_pred)\n",
        "mse_combined = metrics.mean_squared_error(combined_y_test, combined_y_pred)\n",
        "rmse_combined = np.sqrt(mse_combined)\n",
        "r2_combined = metrics.r2_score(combined_y_test, combined_y_pred)\n",
        "\n",
        "print(\"Composite-LSTM Results for the combined dataset:\")\n",
        "print(\"MAE:\", mae_combined)\n",
        "print(\"MSE:\", mse_combined)\n",
        "print(\"RMSE:\", rmse_combined)\n",
        "print(\"R-Squared:\", r2_combined)\n"
      ],
      "metadata": {
        "colab": {
          "base_uri": "https://localhost:8080/"
        },
        "id": "HAt74mg9K_bk",
        "outputId": "ffa2f015-652a-48b5-d24d-5dd0cbcfd3a6"
      },
      "execution_count": 28,
      "outputs": [
        {
          "output_type": "stream",
          "name": "stdout",
          "text": [
            "Composite-LSTM Results for the combined dataset:\n",
            "MAE: 0.17923973310954336\n",
            "MSE: 0.05708928045925701\n",
            "RMSE: 0.23893363191325118\n",
            "R-Squared: 0.8936728528334899\n"
          ]
        }
      ]
    },
    {
      "cell_type": "code",
      "source": [
        "# Save predictions\n",
        "results1 = pd.DataFrame({'Actual': y1_test, 'Predicted': y1_pred.flatten()})\n",
        "results1.to_csv('composite_lstm_predictions1.csv', index=False)\n",
        "results2 = pd.DataFrame({'Actual': y2_test, 'Predicted': y2_pred.flatten()})\n",
        "results2.to_csv('composite_lstm_predictions2.csv', index=False)\n",
        "\n"
      ],
      "metadata": {
        "id": "TjqKbHxGthjn"
      },
      "execution_count": 23,
      "outputs": []
    },
    {
      "cell_type": "code",
      "source": [
        "# Combine results for both halves\n",
        "combined_results = pd.concat([results1, results2], ignore_index=True)\n",
        "\n",
        "# Save combined predictions\n",
        "combined_results.to_csv('composite_lstm_predictions_combined.csv', index=False)\n"
      ],
      "metadata": {
        "id": "sMIkaYCJCOoU"
      },
      "execution_count": 24,
      "outputs": []
    },
    {
      "cell_type": "code",
      "source": [
        "import pandas as pd\n",
        "import matplotlib.pyplot as plt\n",
        "\n",
        "# Read the CSV file\n",
        "predictions = pd.read_csv('composite_lstm_predictions_combined.csv')\n",
        "\n",
        "# Plotting every nth data point\n",
        "n = 500 # Change this value as needed\n",
        "plt.figure(figsize=(10, 6))\n",
        "plt.plot(predictions.index[::n], predictions['Actual'][::n], marker='o', linestyle='-', color='blue', label='Actual')\n",
        "plt.plot(predictions.index[::n], predictions['Predicted'][::n], marker='o', linestyle='-', color='red', label='Predicted')\n",
        "plt.xlabel('Index')\n",
        "plt.ylabel('Magnitude')\n",
        "plt.title('Actual vs Predicted Magnitude (Every {}th data point)'.format(n))\n",
        "plt.legend()\n",
        "plt.grid(True)\n",
        "plt.show()\n"
      ],
      "metadata": {
        "colab": {
          "base_uri": "https://localhost:8080/",
          "height": 584
        },
        "id": "93EgoRbMJe30",
        "outputId": "621176fe-9dd6-4b1d-bda8-97e1dcb446d1"
      },
      "execution_count": 27,
      "outputs": [
        {
          "output_type": "display_data",
          "data": {
            "text/plain": [
              "<Figure size 1000x600 with 1 Axes>"
            ],
            "image/png": "[encoded data removed]"
          },
          "metadata": {}
        }
      ]
    }
  ]
}